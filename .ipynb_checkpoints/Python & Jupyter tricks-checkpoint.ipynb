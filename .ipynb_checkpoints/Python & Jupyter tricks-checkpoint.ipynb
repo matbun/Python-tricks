{
 "cells": [
  {
   "cell_type": "markdown",
   "metadata": {},
   "source": [
    "# Python & Jupyter tricks"
   ]
  },
  {
   "cell_type": "markdown",
   "metadata": {},
   "source": [
    "## Table of contents\n",
    "### [Python tricks](#python_tricks)\n",
    "- [Introducion](#intro)\n",
    "- [Integers](#integers)\n",
    "- [Strings](#strings)\n",
    "- [Tuples](#tuples)\n",
    "- [Lists](#lists)\n",
    "- [Sets](#sets)\n",
    "- [Conditions](#cond)\n",
    "\n",
    "### [Jupyter tricks](#jupyter_tricks)\n",
    "- [Change cell type](#type)\n",
    "- [Markdown new line](#nl)\n",
    "- [Markdown text formatting](#format)\n",
    "- [Run a single cell](#single)\n",
    "- [Clear a cell output](#clear)"
   ]
  },
  {
   "cell_type": "markdown",
   "metadata": {},
   "source": [
    "<a id=\"python_tricks\"></a>\n",
    "# Python tricks"
   ]
  },
  {
   "cell_type": "markdown",
   "metadata": {},
   "source": [
    "<a id=\"intro\"></a>\n",
    "## Intro"
   ]
  },
  {
   "cell_type": "markdown",
   "metadata": {},
   "source": [
    "### Immutability\n",
    "**Note:** python *strings* and *tuples* are **immutable**. Trying to modify them will lead to an error. (*int, float* and *bool* are immutable as well, but the only operation you could do is to change their value which is always permitted).  "
   ]
  },
  {
   "cell_type": "code",
   "execution_count": null,
   "metadata": {
    "collapsed": true
   },
   "outputs": [],
   "source": [
    "s = 'Ciao'\n",
    "s[0] = 'c' #will cause an error\n",
    "\n",
    "t = (1, 2, 4)\n",
    "t[0] = 5 #will cause an error\n",
    "\n",
    "l = [1, 3, 5]\n",
    "l[1] = 45 #it's ok because lists are mutable\n",
    "print(l)"
   ]
  },
  {
   "cell_type": "markdown",
   "metadata": {},
   "source": [
    "<a id=\"integers\"></a>\n",
    "## Integers"
   ]
  },
  {
   "cell_type": "markdown",
   "metadata": {},
   "source": [
    "### Integer division"
   ]
  },
  {
   "cell_type": "code",
   "execution_count": 26,
   "metadata": {},
   "outputs": [
    {
     "name": "stdout",
     "output_type": "stream",
     "text": [
      "Non int div: 2.230769230769231\n",
      "Int div: 2\n"
     ]
    }
   ],
   "source": [
    "a = 29\n",
    "b = 13\n",
    "\n",
    "non_int_div = a / b\n",
    "print('Non int div: ' + str(non_int_div))\n",
    "\n",
    "int_div = a // b\n",
    "print('Int div: ' + str(int_div))"
   ]
  },
  {
   "cell_type": "markdown",
   "metadata": {},
   "source": [
    "<a id=\"strings\"></a>\n",
    "## Strings "
   ]
  },
  {
   "cell_type": "markdown",
   "metadata": {},
   "source": [
    "### Quotes in strings"
   ]
  },
  {
   "cell_type": "code",
   "execution_count": 15,
   "metadata": {},
   "outputs": [
    {
     "name": "stdout",
     "output_type": "stream",
     "text": [
      "He said \"yes\"\n"
     ]
    }
   ],
   "source": [
    "s = 'He said \"yes\"'\n",
    "print(s)"
   ]
  },
  {
   "cell_type": "markdown",
   "metadata": {},
   "source": [
    "### Formatting strings"
   ]
  },
  {
   "cell_type": "code",
   "execution_count": 23,
   "metadata": {},
   "outputs": [
    {
     "name": "stdout",
     "output_type": "stream",
     "text": [
      "the temperature in Torino is 27.2452462 Celsius degrees\n",
      "...which are 300.3952462 Kelvin degrees\n",
      "...let's say there are about 27.25 Celsius and 300.40 Kelvin\n"
     ]
    }
   ],
   "source": [
    "temp = 27.2452462\n",
    "city = 'Torino'\n",
    "\n",
    "s1 = f'the temperature in {city} is {temp} Celsius degrees'\n",
    "\n",
    "s2 = f'...which are {temp + 273.15} Kelvin degrees' #it support operations\n",
    "\n",
    "s3 = f\"...let's say there are about {temp:.2f} Celsius and {(temp + 273.15):.2f} Kelvin\" #it supports decimal approximation\n",
    "\n",
    "print(s1)\n",
    "print(s2)\n",
    "print(s3)"
   ]
  },
  {
   "cell_type": "markdown",
   "metadata": {},
   "source": [
    "<a id=\"tuples\"></a>\n",
    "## Tuples"
   ]
  },
  {
   "cell_type": "markdown",
   "metadata": {},
   "source": [
    "### Tuple swap"
   ]
  },
  {
   "cell_type": "code",
   "execution_count": 27,
   "metadata": {},
   "outputs": [
    {
     "name": "stdout",
     "output_type": "stream",
     "text": [
      "14\n",
      "3\n"
     ]
    }
   ],
   "source": [
    "a = 3\n",
    "b = 14\n",
    "\n",
    "a, b = b, a\n",
    "\n",
    "print(a)\n",
    "print(b)"
   ]
  },
  {
   "cell_type": "markdown",
   "metadata": {},
   "source": [
    "### Tuple concatenation"
   ]
  },
  {
   "cell_type": "code",
   "execution_count": 28,
   "metadata": {},
   "outputs": [
    {
     "name": "stdout",
     "output_type": "stream",
     "text": [
      "(1, 2, 3, 'd', 'e')\n"
     ]
    }
   ],
   "source": [
    "a = (1, 2, 3)\n",
    "b = ('d', 'e')\n",
    "\n",
    "print(a + b)"
   ]
  },
  {
   "cell_type": "markdown",
   "metadata": {},
   "source": [
    "<a id=\"lists\"></a>\n",
    "## Lists"
   ]
  },
  {
   "cell_type": "markdown",
   "metadata": {},
   "source": [
    "### List heterogeneity"
   ]
  },
  {
   "cell_type": "code",
   "execution_count": 29,
   "metadata": {},
   "outputs": [
    {
     "name": "stdout",
     "output_type": "stream",
     "text": [
      "[1, 'hi', 3.14, None]\n"
     ]
    }
   ],
   "source": [
    "l = [1, 'hi', 3.14, None]\n",
    "print(l)"
   ]
  },
  {
   "cell_type": "markdown",
   "metadata": {},
   "source": [
    "### List are mutable"
   ]
  },
  {
   "cell_type": "code",
   "execution_count": 46,
   "metadata": {},
   "outputs": [
    {
     "name": "stdout",
     "output_type": "stream",
     "text": [
      "[2, 3, 5, 6, 8, 9]\n",
      "[2, 3, 'a', 'b', 'c', 'd', 'e', 'f', 'g', 8, 9]\n",
      "['H', 'a', 'l', 'o', 'c', 'd', 'e', 'f', 'g', 8, 9]\n",
      "['H', 'a', 'l', 'three', 'c', 'd', 'e', 'f', 'g', 8, 9]\n",
      "['H', 'c', 'd', 'e', 'f', 'g', 8, 9]\n"
     ]
    }
   ],
   "source": [
    "l = [2, 3, 5, 6, 8, 9]\n",
    "print(l)\n",
    "\n",
    "l[2:4] = ['a', 'b', 'c', 'd', 'e', 'f', 'g']\n",
    "print(l)\n",
    "\n",
    "l[0:4] = 'Halo' #interpreted as a list\n",
    "print(l)\n",
    "\n",
    "l[3] = 'three' #interpreted as an element\n",
    "print(l)\n",
    "\n",
    "del l[1:4] #deleting a sub-list\n",
    "print(l)"
   ]
  },
  {
   "cell_type": "markdown",
   "metadata": {},
   "source": [
    "<a id=\"sets\"></a>\n",
    "## Sets"
   ]
  },
  {
   "cell_type": "markdown",
   "metadata": {},
   "source": [
    "<a id=\"cond\"></a>\n",
    "## Conditions"
   ]
  },
  {
   "cell_type": "code",
   "execution_count": 48,
   "metadata": {},
   "outputs": [
    {
     "name": "stdout",
     "output_type": "stream",
     "text": [
      "Temperatura mite\n"
     ]
    }
   ],
   "source": [
    "temp = 18\n",
    "if 15 < temp < 25: #condizione di 'compreso'\n",
    "    print('Temperatura mite')"
   ]
  },
  {
   "cell_type": "markdown",
   "metadata": {},
   "source": [
    "<a id=\"jupyter_tricks\"></a>\n",
    "# Jupyter tricks"
   ]
  },
  {
   "cell_type": "markdown",
   "metadata": {},
   "source": [
    "<a id=\"type\"></a>\n",
    "### Change cell type (Markdown, code, raw)\n",
    "*Esc* + *Y*: will set the cell type to **code**  \n",
    "*Esc* + *R*: will set the cell type to **raw**  \n",
    "*Esc* + *M*: will set the cell type to **markdown**"
   ]
  },
  {
   "cell_type": "markdown",
   "metadata": {},
   "source": [
    "<a id=\"nl\"></a>\n",
    "### Markdown new line"
   ]
  },
  {
   "cell_type": "raw",
   "metadata": {},
   "source": [
    "first tense  (<-- two spaces)\n",
    "second tense"
   ]
  },
  {
   "cell_type": "markdown",
   "metadata": {},
   "source": [
    "Ref: https://gist.github.com/shaunlebron/746476e6e7a4d698b373"
   ]
  },
  {
   "cell_type": "markdown",
   "metadata": {},
   "source": [
    "<a id=\"format\"></a>\n",
    "### Markdown text formatting\n",
    "Guide on how to set text color, bold, italic, lines, bullets, quotations...  \n",
    "https://medium.com/ibm-data-science-experience/markdown-for-jupyter-notebooks-cheatsheet-386c05aeebed"
   ]
  },
  {
   "cell_type": "markdown",
   "metadata": {},
   "source": [
    "<a id=\"single\"></a>\n",
    "### Run single cell\n",
    "*Ctrl* + *Enter*: will run the selected cell  \n",
    "*Alt* + *Enter*: will run the selected cell, **adding an empty cell below**  \n",
    "*Shift* + *Enter*: will run the selected cell, **selecting the cell below**. If none exists it will create an empty one\n",
    "\n",
    "Ref: https://jupyter-notebook.readthedocs.io/en/stable/examples/Notebook/Running%20Code.html"
   ]
  },
  {
   "cell_type": "markdown",
   "metadata": {},
   "source": [
    "<a id=\"clear\"></a>\n",
    "### Clear single cell output\n",
    "Either change the cell type to *raw* and again to *code* (Esc + R, then Esc + Y)  \n",
    "or set the shortcut in the settings"
   ]
  }
 ],
 "metadata": {
  "kernelspec": {
   "display_name": "Python 3",
   "language": "python",
   "name": "python3"
  },
  "language_info": {
   "codemirror_mode": {
    "name": "ipython",
    "version": 3
   },
   "file_extension": ".py",
   "mimetype": "text/x-python",
   "name": "python",
   "nbconvert_exporter": "python",
   "pygments_lexer": "ipython3",
   "version": "3.6.3"
  }
 },
 "nbformat": 4,
 "nbformat_minor": 2
}
