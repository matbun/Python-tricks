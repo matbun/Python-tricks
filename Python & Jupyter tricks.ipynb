{
 "cells": [
  {
   "cell_type": "markdown",
   "metadata": {},
   "source": [
    "# Python tricks"
   ]
  },
  {
   "cell_type": "markdown",
   "metadata": {},
   "source": [
    "### Immutability\n",
    "**Note:** python *strings* and *tuples* are **immutable**. Trying to modify them will lead to an error. (*int, float* and *bool* are immutable as well, but the only operation you could do is to change their value which is always permitted).  "
   ]
  },
  {
   "cell_type": "code",
   "execution_count": null,
   "metadata": {
    "collapsed": true
   },
   "outputs": [],
   "source": [
    "s = 'Ciao'\n",
    "s[0] = 'c' #will cause an error\n",
    "\n",
    "t = (1, 2, 4)\n",
    "t[0] = 5 #will cause an error\n",
    "\n",
    "l = [1, 3, 5]\n",
    "l[1] = 45 #it's ok because lists are mutable\n",
    "print(l)"
   ]
  },
  {
   "cell_type": "markdown",
   "metadata": {},
   "source": [
    "### Integer division"
   ]
  },
  {
   "cell_type": "code",
   "execution_count": 14,
   "metadata": {},
   "outputs": [
    {
     "name": "stdout",
     "output_type": "stream",
     "text": [
      "Non int div: 2.076923076923077\n",
      "Int div: 2\n"
     ]
    }
   ],
   "source": [
    "a = 27\n",
    "b = 13\n",
    "\n",
    "non_int_div = a / b\n",
    "print('Non int div: ' + str(non_int_div))\n",
    "\n",
    "int_div = a // b\n",
    "print('Int div: ' + str(int_div))"
   ]
  },
  {
   "cell_type": "markdown",
   "metadata": {},
   "source": [
    "### Quotes in strings"
   ]
  },
  {
   "cell_type": "code",
   "execution_count": 15,
   "metadata": {},
   "outputs": [
    {
     "name": "stdout",
     "output_type": "stream",
     "text": [
      "He said \"yes\"\n"
     ]
    }
   ],
   "source": [
    "s = 'He said \"yes\"'\n",
    "print(s)"
   ]
  },
  {
   "cell_type": "markdown",
   "metadata": {},
   "source": [
    "### Formatting strings"
   ]
  },
  {
   "cell_type": "code",
   "execution_count": 23,
   "metadata": {},
   "outputs": [
    {
     "name": "stdout",
     "output_type": "stream",
     "text": [
      "the temperature in Torino is 27.2452462 Celsius degrees\n",
      "...which are 300.3952462 Kelvin degrees\n",
      "...let's say there are about 27.25 Celsius and 300.40 Kelvin\n"
     ]
    }
   ],
   "source": [
    "temp = 27.2452462\n",
    "city = 'Torino'\n",
    "\n",
    "s1 = f'the temperature in {city} is {temp} Celsius degrees'\n",
    "\n",
    "s2 = f'...which are {temp + 273.15} Kelvin degrees' #it support operations\n",
    "\n",
    "s3 = f\"...let's say there are about {temp:.2f} Celsius and {(temp + 273.15):.2f} Kelvin\" #it supports decimal approximation\n",
    "\n",
    "print(s1)\n",
    "print(s2)\n",
    "print(s3)"
   ]
  },
  {
   "cell_type": "code",
   "execution_count": null,
   "metadata": {
    "collapsed": true
   },
   "outputs": [],
   "source": []
  },
  {
   "cell_type": "markdown",
   "metadata": {},
   "source": [
    "# Jupyter tricks"
   ]
  },
  {
   "cell_type": "markdown",
   "metadata": {},
   "source": [
    "### Change cell type (Markdown, code, raw)\n",
    "*Esc* + *Y*: will set the cell type to **code**  \n",
    "*Esc* + *R*: will set the cell type to **raw**  \n",
    "*Esc* + *M*: will set the cell type to **markdown**"
   ]
  },
  {
   "cell_type": "markdown",
   "metadata": {},
   "source": [
    "### Markdown new line"
   ]
  },
  {
   "cell_type": "raw",
   "metadata": {},
   "source": [
    "first tense  (<-- two spaces)\n",
    "second tense"
   ]
  },
  {
   "cell_type": "markdown",
   "metadata": {},
   "source": [
    "Ref: https://gist.github.com/shaunlebron/746476e6e7a4d698b373"
   ]
  },
  {
   "cell_type": "markdown",
   "metadata": {},
   "source": [
    "### Markdown text formatting\n",
    "Guide on how to set text color, bold, italic, lines, bullets, quotations...  \n",
    "https://medium.com/ibm-data-science-experience/markdown-for-jupyter-notebooks-cheatsheet-386c05aeebed"
   ]
  },
  {
   "cell_type": "markdown",
   "metadata": {},
   "source": [
    "### Run single cell\n",
    "*Ctrl* + *Enter*: will run the selected cell  \n",
    "*Shift* + *Enter*: will run the selected cell, adding an empty cell below\n",
    "\n",
    "Ref: https://jupyter-notebook.readthedocs.io/en/stable/examples/Notebook/Running Code.html"
   ]
  },
  {
   "cell_type": "markdown",
   "metadata": {},
   "source": [
    "### Clear cell output\n",
    "Either change the cell type to *raw* and again to *code* (Esc + R, then Esc + Y)  \n",
    "or set the shortcut in the settings"
   ]
  }
 ],
 "metadata": {
  "kernelspec": {
   "display_name": "Python 3",
   "language": "python",
   "name": "python3"
  },
  "language_info": {
   "codemirror_mode": {
    "name": "ipython",
    "version": 3
   },
   "file_extension": ".py",
   "mimetype": "text/x-python",
   "name": "python",
   "nbconvert_exporter": "python",
   "pygments_lexer": "ipython3",
   "version": "3.6.3"
  }
 },
 "nbformat": 4,
 "nbformat_minor": 2
}
