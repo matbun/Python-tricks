{
 "cells": [
  {
   "cell_type": "markdown",
   "metadata": {},
   "source": [
    "## Filter a list"
   ]
  },
  {
   "cell_type": "code",
   "execution_count": 7,
   "metadata": {},
   "outputs": [
    {
     "data": {
      "text/plain": [
       "([('ciao', 4), ('come', 4), ('stai?', 5), ('sono', 4)],\n",
       " ['wei', 'io', 'lo', 'zi'])"
      ]
     },
     "execution_count": 7,
     "metadata": {},
     "output_type": "execute_result"
    }
   ],
   "source": [
    "words = ['wei', 'ciao', 'come', 'stai?', 'io', 'sono', 'lo', 'zi']\n",
    "\n",
    "#list comprehension\n",
    "#*result*  = [*transform*    *iteration*    *filter*]\n",
    "long_words = [(w, len(w)) for w in words if len(w) > 3]\n",
    "\n",
    "#filter\n",
    "short_words = list(filter(lambda x: len(x) < 4, words))\n",
    "\n",
    "long_words, short_words"
   ]
  },
  {
   "cell_type": "markdown",
   "metadata": {},
   "source": [
    "## Sum"
   ]
  },
  {
   "cell_type": "code",
   "execution_count": 11,
   "metadata": {},
   "outputs": [
    {
     "data": {
      "text/plain": [
       "26"
      ]
     },
     "execution_count": 11,
     "metadata": {},
     "output_type": "execute_result"
    }
   ],
   "source": [
    "tot = sum([len(w) for w in words])\n",
    "tot"
   ]
  },
  {
   "cell_type": "markdown",
   "metadata": {},
   "source": [
    "## Max, min, sort using *key* param"
   ]
  },
  {
   "cell_type": "code",
   "execution_count": 25,
   "metadata": {},
   "outputs": [
    {
     "data": {
      "text/plain": [
       "({'age': 45, 'name': 'carmela'}, {'age': 20, 'name': 'louis'})"
      ]
     },
     "execution_count": 25,
     "metadata": {},
     "output_type": "execute_result"
    }
   ],
   "source": [
    "people = [\n",
    "    {'age':20, 'name':'louis'},\n",
    "    {'age': 45, 'name':'carmela'},\n",
    "    {'age': 18, 'name':'pasqualino'}\n",
    "]\n",
    "\n",
    "max(people,key=lambda x:x['age']), min(people, key=lambda x: len(x['name']))"
   ]
  },
  {
   "cell_type": "code",
   "execution_count": 26,
   "metadata": {},
   "outputs": [
    {
     "name": "stdout",
     "output_type": "stream",
     "text": [
      "[{'age': 20, 'name': 'louis'}, {'age': 45, 'name': 'carmela'}, {'age': 18, 'name': 'pasqualino'}]\n",
      "[{'age': 18, 'name': 'pasqualino'}, {'age': 20, 'name': 'louis'}, {'age': 45, 'name': 'carmela'}]\n",
      "[{'age': 45, 'name': 'carmela'}, {'age': 20, 'name': 'louis'}, {'age': 18, 'name': 'pasqualino'}]\n"
     ]
    }
   ],
   "source": [
    "#il metodo sort() è solo per le liste. Per gli altri iterables devo usare sorted() \n",
    "#(https://stackoverflow.com/questions/22442378/what-is-the-difference-between-sortedlist-vs-list-sort)\n",
    "\n",
    "print(people)\n",
    "\n",
    "people.sort(key=lambda p: p['age'])\n",
    "print(people)\n",
    "\n",
    "people.sort(key=lambda p: p['name'])\n",
    "print(people)"
   ]
  },
  {
   "cell_type": "markdown",
   "metadata": {},
   "source": [
    "## Map"
   ]
  },
  {
   "cell_type": "code",
   "execution_count": 21,
   "metadata": {},
   "outputs": [
    {
     "name": "stdout",
     "output_type": "stream",
     "text": [
      "[3, 4, 4, 5, 2, 4, 2, 2]\n"
     ]
    },
    {
     "data": {
      "text/plain": [
       "[9, 16, 16, 25, 4, 16, 4, 4]"
      ]
     },
     "execution_count": 21,
     "metadata": {},
     "output_type": "execute_result"
    }
   ],
   "source": [
    "words = ['wei', 'ciao', 'come', 'stai?', 'io', 'sono', 'lo', 'zi']\n",
    "\n",
    "numbers = list(map(lambda x: len(x), words))\n",
    "print(numbers)\n",
    "\n",
    "quadratic_numbers = list(map(lambda x: x**2, numbers))\n",
    "quadratic_numbers"
   ]
  },
  {
   "cell_type": "markdown",
   "metadata": {},
   "source": [
    "## Reduce"
   ]
  },
  {
   "cell_type": "code",
   "execution_count": 18,
   "metadata": {},
   "outputs": [
    {
     "data": {
      "text/plain": [
       "24"
      ]
     },
     "execution_count": 18,
     "metadata": {},
     "output_type": "execute_result"
    }
   ],
   "source": [
    "from functools import reduce\n",
    "\n",
    "nums = [1,2,3,4]\n",
    "prod = reduce(lambda x,y: x*y, nums)\n",
    "prod"
   ]
  },
  {
   "cell_type": "markdown",
   "metadata": {},
   "source": [
    "'jdojsd'"
   ]
  }
 ],
 "metadata": {
  "kernelspec": {
   "display_name": "Python 3",
   "language": "python",
   "name": "python3"
  },
  "language_info": {
   "codemirror_mode": {
    "name": "ipython",
    "version": 3
   },
   "file_extension": ".py",
   "mimetype": "text/x-python",
   "name": "python",
   "nbconvert_exporter": "python",
   "pygments_lexer": "ipython3",
   "version": "3.6.3"
  }
 },
 "nbformat": 4,
 "nbformat_minor": 2
}
